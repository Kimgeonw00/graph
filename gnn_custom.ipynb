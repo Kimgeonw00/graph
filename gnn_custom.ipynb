{
 "cells": [
  {
   "cell_type": "code",
   "execution_count": 1,
   "metadata": {},
   "outputs": [
    {
     "name": "stderr",
     "output_type": "stream",
     "text": [
      "/home/ubuntu/anaconda3/envs/bgefinetune/lib/python3.10/site-packages/torch_geometric/typing.py:68: UserWarning: An issue occurred while importing 'pyg-lib'. Disabling its usage. Stacktrace: /lib/x86_64-linux-gnu/libm.so.6: version `GLIBC_2.29' not found (required by /home/ubuntu/anaconda3/envs/bgefinetune/lib/python3.10/site-packages/libpyg.so)\n",
      "  warnings.warn(f\"An issue occurred while importing 'pyg-lib'. \"\n",
      "/home/ubuntu/anaconda3/envs/bgefinetune/lib/python3.10/site-packages/torch_geometric/typing.py:124: UserWarning: An issue occurred while importing 'torch-sparse'. Disabling its usage. Stacktrace: /lib/x86_64-linux-gnu/libm.so.6: version `GLIBC_2.29' not found (required by /home/ubuntu/anaconda3/envs/bgefinetune/lib/python3.10/site-packages/libpyg.so)\n",
      "  warnings.warn(f\"An issue occurred while importing 'torch-sparse'. \"\n"
     ]
    }
   ],
   "source": [
    "# Cora dataset\n",
    "from torch_geometric.datasets import Planetoid\n",
    " \n",
    "# Import dataset from PyTorch Geometric\n",
    "dataset = Planetoid(root=\".\", name=\"Cora\") \n",
    "data = dataset[0]\n",
    "# Data(x=[2708, 1433], edge_index=[2, 10556], y=[2708], train_mask=[2708], val_mask=[2708], test_mask=[2708])"
   ]
  },
  {
   "cell_type": "code",
   "execution_count": 2,
   "metadata": {},
   "outputs": [],
   "source": [
    "import torch\n",
    "import torch.nn as nn\n",
    "import torch.nn.functional as F\n",
    "def accuracy(preds, labels):\n",
    "    \"\"\"Compute the accuracy of predictions.\"\"\"\n",
    "    correct = (preds == labels).sum().item()\n",
    "    total = labels.size(0)\n",
    "    return correct / total"
   ]
  },
  {
   "cell_type": "code",
   "execution_count": null,
   "metadata": {},
   "outputs": [],
   "source": [
    "# Basic GNN\n",
    "from torch_geometric.utils import to_dense_adj\n",
    "\n",
    "class GNNLayer(torch.nn.Module):\n",
    "    def __init__(self, dim_in, dim_out):\n",
    "        super().__init__()\n",
    "        \n",
    "        # bias를 포함하지 않는 basic linear transformation\n",
    "        self.linear = nn.Linear(dim_in, dim_out, bias=False)\n",
    " \n",
    "    def forward(self, x, edge_index):\n",
    "        # adj matrix\n",
    "        adjacency = to_dense_adj(data.edge_index)[0]\n",
    "        adjacency += torch.eye(len(adjacency))\n",
    "        # (1) Linear trasnformation\n",
    "        x = self.linear(x) # hidden layer (X*W.T)\n",
    "        \n",
    "        # (2) 메세지 전달, Multiplication with the adjacency matrix A\n",
    "        x = torch.sparse.mm(adjacency, x) # H = A.T (X*W.T)\n",
    "        return x"
   ]
  },
  {
   "cell_type": "code",
   "execution_count": 8,
   "metadata": {},
   "outputs": [],
   "source": [
    "class GNN(torch.nn.Module):\n",
    "    \"\"\"Basic Graph Neural Network\"\"\"\n",
    "    def __init__(self, dim_in, dim_h, dim_out):\n",
    "        super().__init__()\n",
    "        self.gnn1 = GNNLayer(dim_in, dim_h)\n",
    "        self.gnn2 = GNNLayer(dim_h, dim_out)\n",
    " \n",
    "    def forward(self, x, edge_index):\n",
    "        h = self.gnn1(x, edge_index)\n",
    "        h = torch.relu(h)\n",
    "        h = self.gnn2(h, edge_index)\n",
    "        return F.log_softmax(h, dim=1)\n",
    " \n",
    "    def fit(self, data, epochs):\n",
    "        criterion = torch.nn.CrossEntropyLoss()\n",
    "        optimizer = torch.optim.Adam(self.parameters(),\n",
    "                                      lr=0.01,\n",
    "                                      weight_decay=5e-4)\n",
    " \n",
    "        self.train()\n",
    "        for epoch in range(epochs+1):\n",
    "            optimizer.zero_grad()\n",
    "            \n",
    "            out = self(data.x, data.edge_index)\n",
    "            loss = criterion(out[data.train_mask], data.y[data.train_mask])\n",
    "            acc = accuracy(out[data.train_mask].argmax(dim=1),\n",
    "                          data.y[data.train_mask])\n",
    "            loss.backward()\n",
    "            optimizer.step()\n",
    " \n",
    "            if(epoch % 20 == 0):\n",
    "                val_loss = criterion(out[data.val_mask], data.y[data.val_mask])\n",
    "                val_acc = accuracy(out[data.val_mask].argmax(dim=1),\n",
    "                                  data.y[data.val_mask])\n",
    "                print(f'Epoch {epoch:>3} | Train Loss: {loss:.3f} | Train Acc:'\n",
    "                      f' {acc*100:>5.2f}% | Val Loss: {val_loss:.2f} | '\n",
    "                      f'Val Acc: {val_acc*100:.2f}%')\n",
    " \n",
    "    @torch.no_grad()\n",
    "    def test(self, data):\n",
    "        self.eval()\n",
    "        out = self(data.x, data.edge_index)\n",
    "        acc = accuracy(out.argmax(dim=1)[data.test_mask], data.y[data.test_mask])\n",
    "        return acc"
   ]
  },
  {
   "cell_type": "code",
   "execution_count": 9,
   "metadata": {},
   "outputs": [
    {
     "name": "stdout",
     "output_type": "stream",
     "text": [
      "GNN(\n",
      "  (gnn1): GNNLayer(\n",
      "    (linear): Linear(in_features=1433, out_features=16, bias=False)\n",
      "  )\n",
      "  (gnn2): GNNLayer(\n",
      "    (linear): Linear(in_features=16, out_features=7, bias=False)\n",
      "  )\n",
      ")\n",
      "Epoch   0 | Train Loss: 2.021 | Train Acc: 12.86% | Val Loss: 1.97 | Val Acc: 14.80%\n",
      "Epoch  20 | Train Loss: 0.042 | Train Acc: 100.00% | Val Loss: 1.80 | Val Acc: 73.60%\n",
      "Epoch  40 | Train Loss: 0.003 | Train Acc: 100.00% | Val Loss: 2.31 | Val Acc: 75.00%\n",
      "Epoch  60 | Train Loss: 0.001 | Train Acc: 100.00% | Val Loss: 2.42 | Val Acc: 74.60%\n",
      "Epoch  80 | Train Loss: 0.001 | Train Acc: 100.00% | Val Loss: 2.39 | Val Acc: 74.80%\n",
      "Epoch 100 | Train Loss: 0.001 | Train Acc: 100.00% | Val Loss: 2.31 | Val Acc: 74.40%\n",
      "\n",
      "GNN test accuracy: 75.70%\n"
     ]
    }
   ],
   "source": [
    "# Create theGNN model\n",
    "gnn = GNN(dataset.num_features, 16, dataset.num_classes)\n",
    "print(gnn)\n",
    " \n",
    "# Train\n",
    "gnn.fit(data, epochs=100)\n",
    " \n",
    "# Test\n",
    "acc = gnn.test(data)\n",
    "print(f'\\nGNN test accuracy: {acc*100:.2f}%')"
   ]
  }
 ],
 "metadata": {
  "kernelspec": {
   "display_name": "bgefinetune",
   "language": "python",
   "name": "python3"
  },
  "language_info": {
   "codemirror_mode": {
    "name": "ipython",
    "version": 3
   },
   "file_extension": ".py",
   "mimetype": "text/x-python",
   "name": "python",
   "nbconvert_exporter": "python",
   "pygments_lexer": "ipython3",
   "version": "3.10.13"
  }
 },
 "nbformat": 4,
 "nbformat_minor": 2
}
