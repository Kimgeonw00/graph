{
 "cells": [
  {
   "cell_type": "markdown",
   "metadata": {},
   "source": [
    "gcn = graph convolution network\n",
    "    = gnn + normalizaiton"
   ]
  },
  {
   "cell_type": "markdown",
   "metadata": {},
   "source": [
    "custom layer"
   ]
  },
  {
   "cell_type": "code",
   "execution_count": 7,
   "metadata": {},
   "outputs": [],
   "source": [
    "import torch\n",
    "from torch_geometric.datasets import Planetoid\n",
    "dataset = Planetoid(root=\".\", name=\"Cora\")\n",
    "data = dataset[0]\n",
    "\n",
    "# 정확도 함수\n",
    "def accuracy(y_pred, y_true):\n",
    "    \"\"\"Calculate accuracy.\"\"\"\n",
    "    return torch.sum(y_pred == y_true) / len(y_true)"
   ]
  },
  {
   "cell_type": "code",
   "execution_count": 8,
   "metadata": {},
   "outputs": [],
   "source": [
    "# gcn layer\n",
    "import torch.nn as nn\n",
    "import torch.nn.functional as F\n",
    "from torch_geometric.utils import to_dense_adj\n",
    "# Basic GNN\n",
    "class GCNLayer(torch.nn.Module):\n",
    "    def __init__(self, dim_in, dim_out):\n",
    "        super().__init__()\n",
    "        \n",
    "        # bias를 포함하지 않는 basic linear transformation\n",
    "        self.linear = nn.Linear(dim_in, dim_out, bias=False)\n",
    "\n",
    "    def forward(self, x, edge_index):\n",
    "        #num_nodes = x.size(0)\n",
    "        adjacency = to_dense_adj(edge_index)[0]\n",
    "        adjacency += torch.eye(len(adjacency))\n",
    "        degree_matrix = torch.diag(adjacency.sum(dim=1))\n",
    "        degree_inv_sqrt = torch.diag(torch.pow(torch.diag(degree_matrix), -0.5)) # D^(-0.5)\n",
    "        adj_norm = degree_inv_sqrt @ adjacency @ degree_inv_sqrt\n",
    "        # (1) Linear trasnformation\n",
    "        x = self.linear(x) # hidden layer (X*W.T)\n",
    "        \n",
    "        # (2) Multiplication with the adjacency matrix A\n",
    "        x = torch.sparse.mm(adj_norm, x) # H = A.T (X*W.T), A = D^(-0.5)AD^(-0.5)\n",
    "        return x"
   ]
  },
  {
   "cell_type": "code",
   "execution_count": 9,
   "metadata": {},
   "outputs": [],
   "source": [
    "class CustomGCN(torch.nn.Module):\n",
    "    \"\"\"Graph Convolutional Network\"\"\"\n",
    "    def __init__(self, dim_in, dim_h, dim_out):\n",
    "        super().__init__()\n",
    "        self.gcn1 = GCNLayer(dim_in, dim_h)\n",
    "        self.gcn2 = GCNLayer(dim_h, dim_out)\n",
    " \n",
    "    def forward(self, x, edge_index):\n",
    "        h = self.gcn1(x, edge_index)\n",
    "        h = torch.relu(h)\n",
    "        h = self.gcn2(h, edge_index)\n",
    "        return F.log_softmax(h, dim=1)\n",
    " \n",
    "    def fit(self, data, epochs):\n",
    "        criterion = torch.nn.CrossEntropyLoss()\n",
    "        optimizer = torch.optim.Adam(self.parameters(),\n",
    "                                      lr=0.01,\n",
    "                                      weight_decay=5e-4)\n",
    " \n",
    "        self.train()\n",
    "        for epoch in range(epochs+1):\n",
    "            optimizer.zero_grad()\n",
    "            out = self(data.x, data.edge_index)\n",
    "            loss = criterion(out[data.train_mask], data.y[data.train_mask])\n",
    "            acc = accuracy(out[data.train_mask].argmax(dim=1),\n",
    "                          data.y[data.train_mask])\n",
    "            loss.backward()\n",
    "            optimizer.step()\n",
    " \n",
    "            if(epoch % 20 == 0):\n",
    "                val_loss = criterion(out[data.val_mask], data.y[data.val_mask])\n",
    "                val_acc = accuracy(out[data.val_mask].argmax(dim=1),\n",
    "                                  data.y[data.val_mask])\n",
    "                print(f'Epoch {epoch:>3} | Train Loss: {loss:.3f} | Train Acc:'\n",
    "                      f' {acc*100:>5.2f}% | Val Loss: {val_loss:.2f} | '\n",
    "                      f'Val Acc: {val_acc*100:.2f}%')\n",
    " \n",
    "    @torch.no_grad()\n",
    "    def test(self, data):\n",
    "        self.eval()\n",
    "        out = self(data.x, data.edge_index)\n",
    "        acc = accuracy(out.argmax(dim=1)[data.test_mask], data.y[data.test_mask])\n",
    "        return acc\n"
   ]
  },
  {
   "cell_type": "code",
   "execution_count": 10,
   "metadata": {},
   "outputs": [
    {
     "name": "stdout",
     "output_type": "stream",
     "text": [
      "CustomGCN(\n",
      "  (gcn1): GCNLayer(\n",
      "    (linear): Linear(in_features=1433, out_features=16, bias=False)\n",
      "  )\n",
      "  (gcn2): GCNLayer(\n",
      "    (linear): Linear(in_features=16, out_features=7, bias=False)\n",
      "  )\n",
      ")\n",
      "Epoch   0 | Train Loss: 1.944 | Train Acc: 18.57% | Val Loss: 1.94 | Val Acc: 15.60%\n",
      "Epoch  20 | Train Loss: 0.227 | Train Acc: 98.57% | Val Loss: 0.86 | Val Acc: 78.80%\n",
      "Epoch  40 | Train Loss: 0.022 | Train Acc: 100.00% | Val Loss: 0.73 | Val Acc: 78.40%\n",
      "Epoch  60 | Train Loss: 0.020 | Train Acc: 100.00% | Val Loss: 0.71 | Val Acc: 78.60%\n",
      "Epoch  80 | Train Loss: 0.022 | Train Acc: 100.00% | Val Loss: 0.70 | Val Acc: 78.00%\n",
      "Epoch 100 | Train Loss: 0.019 | Train Acc: 100.00% | Val Loss: 0.71 | Val Acc: 78.20%\n",
      "\n",
      "GCN test accuracy: 80.40%\n",
      "\n"
     ]
    }
   ],
   "source": [
    "# 인스턴스 저장 및 100 에포크 훈련\n",
    "gcn = CustomGCN(dataset.num_features, 16, dataset.num_classes)\n",
    "print(gcn)\n",
    " \n",
    "# Train\n",
    "gcn.fit(data, epochs=100)\n",
    " \n",
    "# Test\n",
    "acc = gcn.test(data)\n",
    "print(f'\\nGCN test accuracy: {acc*100:.2f}%\\n')"
   ]
  }
 ],
 "metadata": {
  "kernelspec": {
   "display_name": "bgefinetune",
   "language": "python",
   "name": "python3"
  },
  "language_info": {
   "codemirror_mode": {
    "name": "ipython",
    "version": 3
   },
   "file_extension": ".py",
   "mimetype": "text/x-python",
   "name": "python",
   "nbconvert_exporter": "python",
   "pygments_lexer": "ipython3",
   "version": "3.10.13"
  }
 },
 "nbformat": 4,
 "nbformat_minor": 2
}
